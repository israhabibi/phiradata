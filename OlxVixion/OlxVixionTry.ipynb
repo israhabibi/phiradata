{
 "cells": [
  {
   "cell_type": "code",
   "execution_count": 72,
   "metadata": {},
   "outputs": [],
   "source": [
    "from bs4 import BeautifulSoup\n",
    "import requests\n",
    "import pandas as pd\n",
    "import datetime\n",
    "\n",
    "url = 'https://api.olx.co.id/relevance/search?facet_limit=100&clientId=pwa&location_facet_limit=20&sorting=desc-creation&location=1000001&page=1&category=200&price_min=4000000&clientVersion=5.55.1&m_tipe=motor-bekas-yamaha-vixion&make=motor-bekas-yamaha'\n",
    "r = requests.get(url)\n",
    "soup = BeautifulSoup(r.content, 'html.parser')\n",
    "data = r.json()\n",
    "total_ads = data['metadata']['total_ads']\n",
    "ads_on_page = data['metadata']['ads_on_page']\n",
    "total_pages = total_ads/ads_on_page"
   ]
  },
  {
   "cell_type": "code",
   "execution_count": 101,
   "metadata": {},
   "outputs": [],
   "source": [
    "df = pd.DataFrame(getdata,columns=['id_iklan', 'status_iklan', 'created_at', 'user_id', 'title', 'description', 'tahun','price','prov','kota','lat','lon'])"
   ]
  },
  {
   "cell_type": "code",
   "execution_count": 102,
   "metadata": {},
   "outputs": [],
   "source": [
    "df.to_csv('Vixion1.csv')"
   ]
  }
 ],
 "metadata": {
  "kernelspec": {
   "display_name": "Python 3",
   "language": "python",
   "name": "python3"
  },
  "language_info": {
   "codemirror_mode": {
    "name": "ipython",
    "version": 3
   },
   "file_extension": ".py",
   "mimetype": "text/x-python",
   "name": "python",
   "nbconvert_exporter": "python",
   "pygments_lexer": "ipython3",
   "version": "3.7.3"
  }
 },
 "nbformat": 4,
 "nbformat_minor": 2
}