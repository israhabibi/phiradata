{
 "cells": [
  {
   "cell_type": "code",
   "execution_count": 13,
   "metadata": {},
   "outputs": [],
   "source": [
    "from bs4 import BeautifulSoup\n",
    "import pandas as pd\n",
    "import glob\n",
    "import json"
   ]
  },
  {
   "cell_type": "code",
   "execution_count": 11,
   "metadata": {},
   "outputs": [
    {
     "data": {
      "text/plain": [
       "['D:\\\\Project\\\\phiradata\\\\LazadaKulkasLg\\\\Samsung\\\\Refrigerators _ Kulkas _ Freezer Samsung _ Lazada.co.id.htm5.html',\n",
       " 'D:\\\\Project\\\\phiradata\\\\LazadaKulkasLg\\\\Samsung\\\\Refrigerators _ Kulkas _ Freezer Samsung _ Lazada.co.id.html1.html',\n",
       " 'D:\\\\Project\\\\phiradata\\\\LazadaKulkasLg\\\\Samsung\\\\Refrigerators _ Kulkas _ Freezer Samsung _ Lazada.co.id.html10.html',\n",
       " 'D:\\\\Project\\\\phiradata\\\\LazadaKulkasLg\\\\Samsung\\\\Refrigerators _ Kulkas _ Freezer Samsung _ Lazada.co.id.html11.html',\n",
       " 'D:\\\\Project\\\\phiradata\\\\LazadaKulkasLg\\\\Samsung\\\\Refrigerators _ Kulkas _ Freezer Samsung _ Lazada.co.id.html12.html',\n",
       " 'D:\\\\Project\\\\phiradata\\\\LazadaKulkasLg\\\\Samsung\\\\Refrigerators _ Kulkas _ Freezer Samsung _ Lazada.co.id.html13.html',\n",
       " 'D:\\\\Project\\\\phiradata\\\\LazadaKulkasLg\\\\Samsung\\\\Refrigerators _ Kulkas _ Freezer Samsung _ Lazada.co.id.html14.html',\n",
       " 'D:\\\\Project\\\\phiradata\\\\LazadaKulkasLg\\\\Samsung\\\\Refrigerators _ Kulkas _ Freezer Samsung _ Lazada.co.id.html15.html',\n",
       " 'D:\\\\Project\\\\phiradata\\\\LazadaKulkasLg\\\\Samsung\\\\Refrigerators _ Kulkas _ Freezer Samsung _ Lazada.co.id.html16.html',\n",
       " 'D:\\\\Project\\\\phiradata\\\\LazadaKulkasLg\\\\Samsung\\\\Refrigerators _ Kulkas _ Freezer Samsung _ Lazada.co.id.html17.html',\n",
       " 'D:\\\\Project\\\\phiradata\\\\LazadaKulkasLg\\\\Samsung\\\\Refrigerators _ Kulkas _ Freezer Samsung _ Lazada.co.id.html18.html',\n",
       " 'D:\\\\Project\\\\phiradata\\\\LazadaKulkasLg\\\\Samsung\\\\Refrigerators _ Kulkas _ Freezer Samsung _ Lazada.co.id.html19.html',\n",
       " 'D:\\\\Project\\\\phiradata\\\\LazadaKulkasLg\\\\Samsung\\\\Refrigerators _ Kulkas _ Freezer Samsung _ Lazada.co.id.html2.html',\n",
       " 'D:\\\\Project\\\\phiradata\\\\LazadaKulkasLg\\\\Samsung\\\\Refrigerators _ Kulkas _ Freezer Samsung _ Lazada.co.id.html20.html',\n",
       " 'D:\\\\Project\\\\phiradata\\\\LazadaKulkasLg\\\\Samsung\\\\Refrigerators _ Kulkas _ Freezer Samsung _ Lazada.co.id.html21.html',\n",
       " 'D:\\\\Project\\\\phiradata\\\\LazadaKulkasLg\\\\Samsung\\\\Refrigerators _ Kulkas _ Freezer Samsung _ Lazada.co.id.html22.html',\n",
       " 'D:\\\\Project\\\\phiradata\\\\LazadaKulkasLg\\\\Samsung\\\\Refrigerators _ Kulkas _ Freezer Samsung _ Lazada.co.id.html23.html',\n",
       " 'D:\\\\Project\\\\phiradata\\\\LazadaKulkasLg\\\\Samsung\\\\Refrigerators _ Kulkas _ Freezer Samsung _ Lazada.co.id.html3.html',\n",
       " 'D:\\\\Project\\\\phiradata\\\\LazadaKulkasLg\\\\Samsung\\\\Refrigerators _ Kulkas _ Freezer Samsung _ Lazada.co.id.html4.html',\n",
       " 'D:\\\\Project\\\\phiradata\\\\LazadaKulkasLg\\\\Samsung\\\\Refrigerators _ Kulkas _ Freezer Samsung _ Lazada.co.id.html6.html',\n",
       " 'D:\\\\Project\\\\phiradata\\\\LazadaKulkasLg\\\\Samsung\\\\Refrigerators _ Kulkas _ Freezer Samsung _ Lazada.co.id.html7.html',\n",
       " 'D:\\\\Project\\\\phiradata\\\\LazadaKulkasLg\\\\Samsung\\\\Refrigerators _ Kulkas _ Freezer Samsung _ Lazada.co.id.html8.html',\n",
       " 'D:\\\\Project\\\\phiradata\\\\LazadaKulkasLg\\\\Samsung\\\\Refrigerators _ Kulkas _ Freezer Samsung _ Lazada.co.id.html9.html']"
      ]
     },
     "execution_count": 11,
     "metadata": {},
     "output_type": "execute_result"
    }
   ],
   "source": [
    "files = glob.glob(\"D:\\Project\\phiradata\\LazadaKulkasLg\\Samsung\\*.html\")\n",
    "files"
   ]
  },
  {
   "cell_type": "code",
   "execution_count": 14,
   "metadata": {},
   "outputs": [],
   "source": [
    "files = glob.glob(\"D:\\Project\\phiradata\\LazadaKulkasLg\\Samsung\\*.html\")\n",
    "dataAkhir = []\n",
    "for file in files:\n",
    "    with open(file, 'r', encoding='utf-8') as f:\n",
    "        soup = BeautifulSoup(f)\n",
    "        a = soup.find_all('script')\n",
    "        rmvString = 'window.pageData='\n",
    "        b = str(a[3].string).replace(rmvString, ' ')\n",
    "        jsonData = json.loads(b)\n",
    "        jsonData1 = jsonData['mods']\n",
    "        jsonData2 = jsonData1['listItems']\n",
    "\n",
    "        for lisItems in jsonData2:\n",
    "            name = lisItems['name']\n",
    "            nid = lisItems['nid']\n",
    "            icons = lisItems['icons']\n",
    "            utLogMap = lisItems['utLogMap']\n",
    "            productUrl = lisItems['productUrl']\n",
    "            image = lisItems['image']\n",
    "            try :\n",
    "                originalPrice = lisItems['originalPrice']\n",
    "            except :\n",
    "                originalPrice = 'NaN'\n",
    "            try :\n",
    "                originalPriceShow = lisItems['originalPriceShow']\n",
    "            except :\n",
    "                originalPriceShow = 'NaN'\n",
    "            price = lisItems['price']\n",
    "            promotionId = lisItems['promotionId']\n",
    "            priceShow = lisItems['priceShow']\n",
    "            try :\n",
    "                discount = lisItems['discount']\n",
    "            except :\n",
    "                discount = 'NaN'\n",
    "            ratingScore = lisItems['ratingScore']\n",
    "            review = lisItems['review']\n",
    "            installment = lisItems['installment']\n",
    "            tItemType = lisItems['tItemType']\n",
    "            try :\n",
    "                location = lisItems['location']\n",
    "            except :\n",
    "                location = 'NaN'\n",
    "            cheapest_sku = lisItems['cheapest_sku']\n",
    "            sku = lisItems['sku']\n",
    "            skus = lisItems['skus']\n",
    "            description = lisItems['description']\n",
    "            brandId = lisItems['brandId']\n",
    "            brandName = lisItems['brandName']\n",
    "            sellerId = lisItems['sellerId']\n",
    "            mainSellerId = lisItems['mainSellerId']\n",
    "            sellerName = lisItems['sellerName']\n",
    "            thumbs = lisItems['thumbs']\n",
    "            restrictedAge = lisItems['restrictedAge']\n",
    "            categories = lisItems['categories']\n",
    "            clickTrace = lisItems['clickTrace']\n",
    "            addToCartSkus = lisItems['addToCartSkus']\n",
    "            itemId = lisItems['itemId']\n",
    "            voucherId = lisItems['voucherId']\n",
    "            skuId = lisItems['skuId']\n",
    "            inStock = lisItems['inStock']\n",
    "            isAD = lisItems['isAD']\n",
    "            dataAkhir.append((name,nid,icons,utLogMap,productUrl,image,originalPrice,originalPriceShow,price,promotionId,priceShow,discount,ratingScore,review,installment,tItemType,location,cheapest_sku,sku,skus,description,brandId,brandName,sellerId,mainSellerId,sellerName,thumbs,restrictedAge,categories,clickTrace,addToCartSkus,itemId,voucherId,skuId,inStock,isAD))\n",
    "df = pd.DataFrame(dataAkhir,columns=['name','nid','icons','utLogMap','productUrl','image','originalPrice','originalPriceShow','price','promotionId','priceShow','discount','ratingScore','review','installment','tItemType','location','cheapest_sku','sku','skus','description','brandId','brandName','sellerId','mainSellerId','sellerName','thumbs','restrictedAge','categories','clickTrace','addToCartSkus','itemId','voucherId','skuId','inStock','isAD'])\n",
    "df.to_csv('LazadaKulkasSamsung.csv')"
   ]
  }
 ],
 "metadata": {
  "kernelspec": {
   "display_name": "Python 3",
   "language": "python",
   "name": "python3"
  },
  "language_info": {
   "codemirror_mode": {
    "name": "ipython",
    "version": 3
   },
   "file_extension": ".py",
   "mimetype": "text/x-python",
   "name": "python",
   "nbconvert_exporter": "python",
   "pygments_lexer": "ipython3",
   "version": "3.7.3"
  }
 },
 "nbformat": 4,
 "nbformat_minor": 2
}
