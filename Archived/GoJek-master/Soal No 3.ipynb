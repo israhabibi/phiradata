{
 "cells": [
  {
   "cell_type": "code",
   "execution_count": 1,
   "metadata": {},
   "outputs": [],
   "source": [
    "import pandas as pd\n",
    "import json\n",
    "\n",
    "df = pd.read_csv('driver_registration.csv', header = None )\n",
    "\n",
    "df.columns = ['id', 'date_created', 'date_last_modified','active_date','name','phone','resign_date','resign_reason','status'\n",
    "             ,'tipe','area','operator_id','modified_by','vehicle_type','helmet_qty','jacket_qty','vehicle_brand'\n",
    "              ,'vehicle_year','bike_type','first_ride_bonus_awarded','is_doc_completed']\n",
    "\n",
    "# Export = df.to_json (r'Export_DataFrame.json', orient='records')\n",
    "\n",
    "jsonArray = json.loads(df.to_json(orient='records'))\n",
    "\n",
    "with open(\"Question 3 Pandas.json\", 'w') as f:\n",
    "    for jsonArrays in jsonArray :\n",
    "        f.write(str(jsonArrays)+ '\\n')"
   ]
  },
  {
   "cell_type": "code",
   "execution_count": 3,
   "metadata": {},
   "outputs": [],
   "source": [
    "import csv  \n",
    "import json  \n",
    "  \n",
    "f = open( 'driver_registration.csv', 'r' )  \n",
    "reader = csv.DictReader( f, fieldnames = ('id', 'date_created', 'date_last_modified','active_date','name','phone','resign_date'\n",
    "                                          ,'resign_reason','status','tipe','area','operator_id','modified_by','vehicle_type'\n",
    "                                          ,'helmet_qty','jacket_qty','vehicle_brand','vehicle_year','bike_type'\n",
    "                                          ,'first_ride_bonus_awarded','is_doc_completed'))  \n",
    "\n",
    "out = json.dumps( [ row for row in reader ] )  \n",
    "\n",
    "jsonArray = json.loads(out)\n",
    "\n",
    "with open(\"Question 3.json\", 'w') as f:\n",
    "    for jsonArrays in jsonArray :\n",
    "        f.write(str(jsonArrays)+ '\\n')"
   ]
  }
 ],
 "metadata": {
  "kernelspec": {
   "display_name": "Python 3",
   "language": "python",
   "name": "python3"
  },
  "language_info": {
   "codemirror_mode": {
    "name": "ipython",
    "version": 3
   },
   "file_extension": ".py",
   "mimetype": "text/x-python",
   "name": "python",
   "nbconvert_exporter": "python",
   "pygments_lexer": "ipython3",
   "version": "3.7.3"
  }
 },
 "nbformat": 4,
 "nbformat_minor": 2
}
