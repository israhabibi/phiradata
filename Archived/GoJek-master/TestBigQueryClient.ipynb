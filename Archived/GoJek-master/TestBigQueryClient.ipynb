{
 "cells": [
  {
   "cell_type": "code",
   "execution_count": 1,
   "metadata": {},
   "outputs": [
    {
     "name": "stdout",
     "output_type": "stream",
     "text": [
      "https://stackoverflow.com/questions/13530967 : 45486 views\n",
      "https://stackoverflow.com/questions/22879669 : 44789 views\n",
      "https://stackoverflow.com/questions/35159967 : 34981 views\n",
      "https://stackoverflow.com/questions/10604135 : 34885 views\n",
      "https://stackoverflow.com/questions/13221978 : 32032 views\n",
      "https://stackoverflow.com/questions/16609219 : 31586 views\n",
      "https://stackoverflow.com/questions/6607552 : 29654 views\n",
      "https://stackoverflow.com/questions/11647201 : 26909 views\n",
      "https://stackoverflow.com/questions/10644993 : 24694 views\n",
      "https://stackoverflow.com/questions/22004216 : 23989 views\n"
     ]
    }
   ],
   "source": [
    "from google.cloud import bigquery\n",
    "\n",
    "\n",
    "def query_stackoverflow():\n",
    "    client = bigquery.Client()\n",
    "    query_job = client.query(\"\"\"\n",
    "        SELECT\n",
    "          CONCAT(\n",
    "            'https://stackoverflow.com/questions/',\n",
    "            CAST(id as STRING)) as url,\n",
    "          view_count\n",
    "        FROM `bigquery-public-data.stackoverflow.posts_questions`\n",
    "        WHERE tags like '%google-bigquery%'\n",
    "        ORDER BY view_count DESC\n",
    "        LIMIT 10\"\"\")\n",
    "\n",
    "    results = query_job.result()  # Waits for job to complete.\n",
    "\n",
    "    for row in results:\n",
    "        print(\"{} : {} views\".format(row.url, row.view_count))\n",
    "\n",
    "\n",
    "if __name__ == '__main__':\n",
    "    query_stackoverflow()"
   ]
  },
  {
   "cell_type": "code",
   "execution_count": 2,
   "metadata": {},
   "outputs": [
    {
     "name": "stdout",
     "output_type": "stream",
     "text": [
      "the: \t614\n",
      "I: \t577\n",
      "and: \t490\n",
      "to: \t486\n",
      "a: \t407\n",
      "of: \t367\n",
      "my: \t314\n",
      "is: \t307\n",
      "in: \t291\n",
      "you: \t271\n",
      "that: \t270\n",
      "me: \t263\n"
     ]
    }
   ],
   "source": [
    "# from google.cloud import bigquery\n",
    "client = bigquery.Client()\n",
    "\n",
    "query = \"\"\"\n",
    "    SELECT word, word_count\n",
    "    FROM `bigquery-public-data.samples.shakespeare`\n",
    "    WHERE corpus = @corpus\n",
    "    AND word_count >= @min_word_count\n",
    "    ORDER BY word_count DESC;\n",
    "\"\"\"\n",
    "query_params = [\n",
    "    bigquery.ScalarQueryParameter(\"corpus\", \"STRING\", \"romeoandjuliet\"),\n",
    "    bigquery.ScalarQueryParameter(\"min_word_count\", \"INT64\", 250),\n",
    "]\n",
    "job_config = bigquery.QueryJobConfig()\n",
    "job_config.query_parameters = query_params\n",
    "query_job = client.query(\n",
    "    query,\n",
    "    # Location must match that of the dataset(s) referenced in the query.\n",
    "    location=\"US\",\n",
    "    job_config=job_config,\n",
    ")  # API request - starts the query\n",
    "\n",
    "# Print the results\n",
    "for row in query_job:\n",
    "    print(\"{}: \\t{}\".format(row.word, row.word_count))\n",
    "\n",
    "assert query_job.state == \"DONE\""
   ]
  },
  {
   "cell_type": "code",
   "execution_count": 3,
   "metadata": {},
   "outputs": [
    {
     "name": "stdout",
     "output_type": "stream",
     "text": [
      "Row((datetime.datetime(2019, 5, 1, 11, 57, 29, 113216, tzinfo=<UTC>),), {'f0_': 0})\n"
     ]
    }
   ],
   "source": [
    "# from google.cloud import bigquery\n",
    "# client = bigquery.Client()\n",
    "\n",
    "import datetime\n",
    "import pytz\n",
    "\n",
    "query = \"SELECT @ts_value;\"\n",
    "query_params = [\n",
    "    bigquery.ScalarQueryParameter(\n",
    "        \"ts_value\",\n",
    "        \"TIMESTAMP\",\n",
    "        datetime.datetime.now() ,\n",
    "    )\n",
    "]\n",
    "job_config = bigquery.QueryJobConfig()\n",
    "job_config.query_parameters = query_params\n",
    "query_job = client.query(\n",
    "    query,\n",
    "    # Location must match that of the dataset(s) referenced in the query.\n",
    "    location=\"US\",\n",
    "    job_config=job_config,\n",
    ")  # API request - starts the query\n",
    "\n",
    "# Print the results\n",
    "for row in query_job:\n",
    "    print(row)\n",
    "\n",
    "assert query_job.state == \"DONE\""
   ]
  },
  {
   "cell_type": "code",
   "execution_count": 4,
   "metadata": {},
   "outputs": [
    {
     "name": "stdout",
     "output_type": "stream",
     "text": [
      "2019-05-01 2019-05-01\n"
     ]
    }
   ],
   "source": [
    "# from google.cloud import bigquery\n",
    "# client = bigquery.Client()\n",
    "\n",
    "query = \"\"\"\n",
    "    with a as (select @h h, @h_1 h_1)\n",
    "    select * from a;\n",
    "\"\"\"\n",
    "query_params = [\n",
    "    bigquery.ScalarQueryParameter(\"h\", \"STRING\", datetime.datetime.now().strftime('%Y-%m-%d')),\n",
    "    bigquery.ScalarQueryParameter(\"h_1\", \"STRING\", datetime.datetime.now().strftime('%Y-%m-%d')),\n",
    "]\n",
    "job_config = bigquery.QueryJobConfig()\n",
    "job_config.query_parameters = query_params\n",
    "query_job = client.query(\n",
    "    query,\n",
    "    # Location must match that of the dataset(s) referenced in the query.\n",
    "    location=\"US\",\n",
    "    job_config=job_config,\n",
    ")  # API request - starts the query\n",
    "\n",
    "# Print the results\n",
    "for row in query_job:\n",
    "    print(row.h, row.h_1)\n",
    "\n",
    "assert query_job.state == \"DONE\""
   ]
  }
 ],
 "metadata": {
  "kernelspec": {
   "display_name": "Python 3",
   "language": "python",
   "name": "python3"
  },
  "language_info": {
   "codemirror_mode": {
    "name": "ipython",
    "version": 3
   },
   "file_extension": ".py",
   "mimetype": "text/x-python",
   "name": "python",
   "nbconvert_exporter": "python",
   "pygments_lexer": "ipython3",
   "version": "3.7.3"
  }
 },
 "nbformat": 4,
 "nbformat_minor": 2
}
