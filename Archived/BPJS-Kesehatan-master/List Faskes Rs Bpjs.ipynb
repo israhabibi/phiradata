{
 "cells": [
  {
   "cell_type": "markdown",
   "metadata": {},
   "source": [
    "https://lovia.life/id/health/bpjs"
   ]
  },
  {
   "cell_type": "markdown",
   "metadata": {},
   "source": [
    "<h2>Import library"
   ]
  },
  {
   "cell_type": "code",
   "execution_count": 1,
   "metadata": {},
   "outputs": [],
   "source": [
    "from bs4 import BeautifulSoup\n",
    "import requests\n",
    "import pandas as pd"
   ]
  },
  {
   "cell_type": "code",
   "execution_count": 2,
   "metadata": {},
   "outputs": [],
   "source": [
    "base = 'https://lovia.life'\n",
    "url = 'https://lovia.life/id/health/bpjs'\n",
    "r = requests.get(url)\n",
    "soup = BeautifulSoup(r.content, 'html.parser')"
   ]
  },
  {
   "cell_type": "code",
   "execution_count": 3,
   "metadata": {},
   "outputs": [],
   "source": [
    "prvs = soup.find_all('h2')\n",
    "v_data_m = []\n",
    "NoProv = 1\n",
    "for prv in prvs :\n",
    "#     print(prv.get_text())\n",
    "    v_prv = prv.get_text()\n",
    "    lnks = prv.next_sibling.next_sibling.find_all('li')\n",
    "    for lnk in lnks :\n",
    "        v_lnk = lnk.find('a').get('href')\n",
    "        v_name = lnk.get_text()\n",
    "        v_data_m.append((NoProv, v_prv, v_name,base+v_lnk))\n",
    "    NoProv = NoProv + 1"
   ]
  },
  {
   "cell_type": "code",
   "execution_count": 4,
   "metadata": {},
   "outputs": [],
   "source": [
    "df_m = pd.DataFrame(v_data_m, columns = ['NoProv', 'Provinsi', 'KotaKab','Link'])"
   ]
  },
  {
   "cell_type": "code",
   "execution_count": 6,
   "metadata": {},
   "outputs": [
    {
     "data": {
      "text/plain": [
       "RangeIndex(start=0, stop=514, step=1)"
      ]
     },
     "execution_count": 6,
     "metadata": {},
     "output_type": "execute_result"
    }
   ],
   "source": [
    "df_m.index"
   ]
  },
  {
   "cell_type": "markdown",
   "metadata": {},
   "source": [
    "Data yang akan diambi :\n",
    "1. 'Provinsi', \n",
    "2. 'KotaKab',\n",
    "3. 'Link',\n",
    "4. 'TipeFaskes',\n",
    "5. 'No',\n",
    "6. 'KodeFaskes',\n",
    "7. 'NamaFaskes',\n",
    "8. 'LatLongFaskes',\n",
    "9. 'AlamatFaskes',\n",
    "10. 'TelpFaskes'"
   ]
  },
  {
   "cell_type": "code",
   "execution_count": null,
   "metadata": {
    "scrolled": false
   },
   "outputs": [],
   "source": [
    "data = []\n",
    "for i in df_m.index:\n",
    "# for i in range(0, 25):\n",
    "    v_prv = df_m['Provinsi'][i]\n",
    "    v_kota = df_m['KotaKab'][i]\n",
    "    v_links = df_m['Link'][i]\n",
    "    url = v_links\n",
    "    r = requests.get(url)\n",
    "    soup = BeautifulSoup(r.content, 'html.parser')\n",
    "    tipes = soup.find_all('h2')\n",
    "    print(i, 'of', len(df_m)-1, v_prv, v_links)\n",
    "    for tipe in tipes :\n",
    "        TipeFaskes = tipe.get_text()\n",
    "        try :\n",
    "            details = tipe.next_sibling.next_sibling.find('tbody').find_all('tr')\n",
    "            for detail in details :\n",
    "                no = detail.find_all('td')[0].get_text()\n",
    "                KodeFaskes = detail.find_all('td')[1].get_text()\n",
    "                NamaFaskes = detail.find_all('td')[2].get_text()\n",
    "                try :\n",
    "                    LatLongFaskes = detail.find_all('td')[2].find('a').get('href')\n",
    "                except:\n",
    "                    LatLongFaskes = '-'\n",
    "                AlamatFaskes = detail.find_all('td')[3].get_text()\n",
    "                TelpFaskes = detail.find_all('td')[4].get_text()\n",
    "                data.append((i,v_prv,v_kota,v_links,TipeFaskes,no,KodeFaskes,NamaFaskes,LatLongFaskes,AlamatFaskes,TelpFaskes))\n",
    "        except:\n",
    "            no = '-'\n",
    "            KodeFaskes = '-'\n",
    "            NamaFaskes = '-'\n",
    "            LatLongFaskes = '-'\n",
    "            AlamatFaskes = '-'\n",
    "            TelpFaskes = '-'\n",
    "            data.append((i,v_prv,v_kota,v_links,TipeFaskes,no,KodeFaskes,NamaFaskes,LatLongFaskes,AlamatFaskes,TelpFaskes))"
   ]
  },
  {
   "cell_type": "code",
   "execution_count": 9,
   "metadata": {},
   "outputs": [],
   "source": [
    "df5 = pd.DataFrame(data, columns = ['NoLink','Provinsi', 'KotaKab','Link','TipeFaskes','No','KodeFaskes','NamaFaskes','LatLongFaskes','AlamatFaskes','TelpFaskes'])"
   ]
  },
  {
   "cell_type": "code",
   "execution_count": 10,
   "metadata": {},
   "outputs": [],
   "source": [
    "df5.to_csv( \"Data Faskes BPJS Try.csv\", index=False, quoting=0 )"
   ]
  },
  {
   "cell_type": "code",
   "execution_count": 11,
   "metadata": {},
   "outputs": [
    {
     "data": {
      "text/html": [
       "<div>\n",
       "<style scoped>\n",
       "    .dataframe tbody tr th:only-of-type {\n",
       "        vertical-align: middle;\n",
       "    }\n",
       "\n",
       "    .dataframe tbody tr th {\n",
       "        vertical-align: top;\n",
       "    }\n",
       "\n",
       "    .dataframe thead th {\n",
       "        text-align: right;\n",
       "    }\n",
       "</style>\n",
       "<table border=\"1\" class=\"dataframe\">\n",
       "  <thead>\n",
       "    <tr style=\"text-align: right;\">\n",
       "      <th></th>\n",
       "      <th>NoLink</th>\n",
       "      <th>Provinsi</th>\n",
       "      <th>KotaKab</th>\n",
       "      <th>Link</th>\n",
       "      <th>TipeFaskes</th>\n",
       "      <th>No</th>\n",
       "      <th>KodeFaskes</th>\n",
       "      <th>NamaFaskes</th>\n",
       "      <th>LatLongFaskes</th>\n",
       "      <th>AlamatFaskes</th>\n",
       "      <th>TelpFaskes</th>\n",
       "    </tr>\n",
       "  </thead>\n",
       "  <tbody>\n",
       "    <tr>\n",
       "      <th>0</th>\n",
       "      <td>0</td>\n",
       "      <td>Nanggroe Aceh Darussalam</td>\n",
       "      <td>Kode Faskes dan Alamat Rumah Sakit BPJS di Kot...</td>\n",
       "      <td>https://lovia.life/id/health/bpjs/area/kota-la...</td>\n",
       "      <td>Rumah Sakit</td>\n",
       "      <td>1</td>\n",
       "      <td>0001R001</td>\n",
       "      <td>RSU Cut Nyak Dhien\\n                    \\n    ...</td>\n",
       "      <td>http://maps.google.co.id/?q=4.488058,97.947963</td>\n",
       "      <td>Jl. Tm Bahrum No. 1 Langsa</td>\n",
       "      <td>\\n 0641-0621039\\n</td>\n",
       "    </tr>\n",
       "    <tr>\n",
       "      <th>1</th>\n",
       "      <td>0</td>\n",
       "      <td>Nanggroe Aceh Darussalam</td>\n",
       "      <td>Kode Faskes dan Alamat Rumah Sakit BPJS di Kot...</td>\n",
       "      <td>https://lovia.life/id/health/bpjs/area/kota-la...</td>\n",
       "      <td>Rumah Sakit</td>\n",
       "      <td>2</td>\n",
       "      <td>0001R004</td>\n",
       "      <td>RSU Cut Meutia Langsa\\n                    \\n ...</td>\n",
       "      <td>http://maps.google.co.id/?q=4.488088,97.947781</td>\n",
       "      <td>Jl.Garuda Kebun Baru Langsa</td>\n",
       "      <td>\\n 0641- 4840076\\n</td>\n",
       "    </tr>\n",
       "    <tr>\n",
       "      <th>2</th>\n",
       "      <td>0</td>\n",
       "      <td>Nanggroe Aceh Darussalam</td>\n",
       "      <td>Kode Faskes dan Alamat Rumah Sakit BPJS di Kot...</td>\n",
       "      <td>https://lovia.life/id/health/bpjs/area/kota-la...</td>\n",
       "      <td>Rumah Sakit</td>\n",
       "      <td>3</td>\n",
       "      <td>0105R001</td>\n",
       "      <td>RSUD Langsa\\n                    \\n           ...</td>\n",
       "      <td>http://maps.google.co.id/?q=4.472208,97.975533</td>\n",
       "      <td>Jln.A.Yani No. 1 Langsa</td>\n",
       "      <td>\\n 0641-22051\\n</td>\n",
       "    </tr>\n",
       "    <tr>\n",
       "      <th>3</th>\n",
       "      <td>0</td>\n",
       "      <td>Nanggroe Aceh Darussalam</td>\n",
       "      <td>Kode Faskes dan Alamat Rumah Sakit BPJS di Kot...</td>\n",
       "      <td>https://lovia.life/id/health/bpjs/area/kota-la...</td>\n",
       "      <td>Rumah Sakit</td>\n",
       "      <td>4</td>\n",
       "      <td>0105R013</td>\n",
       "      <td>RSU Ummi \\n                    \\n             ...</td>\n",
       "      <td>http://maps.google.co.id/?q=4.470376,97.991915</td>\n",
       "      <td>Jln. Prof. A. Madjid Ibrahim</td>\n",
       "      <td>\\n 0641-22886\\n</td>\n",
       "    </tr>\n",
       "    <tr>\n",
       "      <th>4</th>\n",
       "      <td>0</td>\n",
       "      <td>Nanggroe Aceh Darussalam</td>\n",
       "      <td>Kode Faskes dan Alamat Rumah Sakit BPJS di Kot...</td>\n",
       "      <td>https://lovia.life/id/health/bpjs/area/kota-la...</td>\n",
       "      <td>Puskesmas</td>\n",
       "      <td>1</td>\n",
       "      <td>00010001</td>\n",
       "      <td>Langsa Lama\\n                    \\n           ...</td>\n",
       "      <td>http://maps.google.co.id/?q=4.478172,97.949988</td>\n",
       "      <td>Gampong Meurandeh Dayah</td>\n",
       "      <td>\\n 0641-064121218\\n</td>\n",
       "    </tr>\n",
       "  </tbody>\n",
       "</table>\n",
       "</div>"
      ],
      "text/plain": [
       "   NoLink                  Provinsi  \\\n",
       "0       0  Nanggroe Aceh Darussalam   \n",
       "1       0  Nanggroe Aceh Darussalam   \n",
       "2       0  Nanggroe Aceh Darussalam   \n",
       "3       0  Nanggroe Aceh Darussalam   \n",
       "4       0  Nanggroe Aceh Darussalam   \n",
       "\n",
       "                                             KotaKab  \\\n",
       "0  Kode Faskes dan Alamat Rumah Sakit BPJS di Kot...   \n",
       "1  Kode Faskes dan Alamat Rumah Sakit BPJS di Kot...   \n",
       "2  Kode Faskes dan Alamat Rumah Sakit BPJS di Kot...   \n",
       "3  Kode Faskes dan Alamat Rumah Sakit BPJS di Kot...   \n",
       "4  Kode Faskes dan Alamat Rumah Sakit BPJS di Kot...   \n",
       "\n",
       "                                                Link   TipeFaskes No  \\\n",
       "0  https://lovia.life/id/health/bpjs/area/kota-la...  Rumah Sakit  1   \n",
       "1  https://lovia.life/id/health/bpjs/area/kota-la...  Rumah Sakit  2   \n",
       "2  https://lovia.life/id/health/bpjs/area/kota-la...  Rumah Sakit  3   \n",
       "3  https://lovia.life/id/health/bpjs/area/kota-la...  Rumah Sakit  4   \n",
       "4  https://lovia.life/id/health/bpjs/area/kota-la...    Puskesmas  1   \n",
       "\n",
       "  KodeFaskes                                         NamaFaskes  \\\n",
       "0   0001R001  RSU Cut Nyak Dhien\\n                    \\n    ...   \n",
       "1   0001R004  RSU Cut Meutia Langsa\\n                    \\n ...   \n",
       "2   0105R001  RSUD Langsa\\n                    \\n           ...   \n",
       "3   0105R013  RSU Ummi \\n                    \\n             ...   \n",
       "4   00010001  Langsa Lama\\n                    \\n           ...   \n",
       "\n",
       "                                    LatLongFaskes  \\\n",
       "0  http://maps.google.co.id/?q=4.488058,97.947963   \n",
       "1  http://maps.google.co.id/?q=4.488088,97.947781   \n",
       "2  http://maps.google.co.id/?q=4.472208,97.975533   \n",
       "3  http://maps.google.co.id/?q=4.470376,97.991915   \n",
       "4  http://maps.google.co.id/?q=4.478172,97.949988   \n",
       "\n",
       "                   AlamatFaskes           TelpFaskes  \n",
       "0    Jl. Tm Bahrum No. 1 Langsa    \\n 0641-0621039\\n  \n",
       "1   Jl.Garuda Kebun Baru Langsa   \\n 0641- 4840076\\n  \n",
       "2       Jln.A.Yani No. 1 Langsa      \\n 0641-22051\\n  \n",
       "3  Jln. Prof. A. Madjid Ibrahim      \\n 0641-22886\\n  \n",
       "4       Gampong Meurandeh Dayah  \\n 0641-064121218\\n  "
      ]
     },
     "execution_count": 11,
     "metadata": {},
     "output_type": "execute_result"
    }
   ],
   "source": [
    "df5.head()"
   ]
  }
 ],
 "metadata": {
  "kernelspec": {
   "display_name": "Python 3",
   "language": "python",
   "name": "python3"
  },
  "language_info": {
   "codemirror_mode": {
    "name": "ipython",
    "version": 3
   },
   "file_extension": ".py",
   "mimetype": "text/x-python",
   "name": "python",
   "nbconvert_exporter": "python",
   "pygments_lexer": "ipython3",
   "version": "3.6.8"
  }
 },
 "nbformat": 4,
 "nbformat_minor": 2
}
