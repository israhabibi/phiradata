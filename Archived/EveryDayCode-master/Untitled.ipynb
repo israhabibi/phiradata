{
 "cells": [
  {
   "cell_type": "code",
   "execution_count": 2,
   "metadata": {},
   "outputs": [],
   "source": [
    "import pandas as pd"
   ]
  },
  {
   "cell_type": "code",
   "execution_count": 3,
   "metadata": {},
   "outputs": [],
   "source": [
    "frame = pd.DataFrame({'a' : ['the cat is blue', 'the sky is green', 'the dog is black']})"
   ]
  },
  {
   "cell_type": "code",
   "execution_count": 4,
   "metadata": {},
   "outputs": [],
   "source": [
    "mylist = ['dog', 'cat', 'fish']\n",
    "pattern = '|'.join(mylist)"
   ]
  },
  {
   "cell_type": "code",
   "execution_count": 6,
   "metadata": {},
   "outputs": [
    {
     "data": {
      "text/plain": [
       "'dog|cat|fish'"
      ]
     },
     "execution_count": 6,
     "metadata": {},
     "output_type": "execute_result"
    }
   ],
   "source": [
    "pattern"
   ]
  },
  {
   "cell_type": "code",
   "execution_count": 5,
   "metadata": {},
   "outputs": [
    {
     "data": {
      "text/plain": [
       "0     True\n",
       "1    False\n",
       "2     True\n",
       "Name: a, dtype: bool"
      ]
     },
     "execution_count": 5,
     "metadata": {},
     "output_type": "execute_result"
    }
   ],
   "source": [
    "frame.a.str.contains(pattern)"
   ]
  },
  {
   "cell_type": "code",
   "execution_count": null,
   "metadata": {},
   "outputs": [],
   "source": []
  },
  {
   "cell_type": "code",
   "execution_count": 27,
   "metadata": {},
   "outputs": [],
   "source": [
    "dfTp = pd.read_csv('TokPedScrapperOut/Kulkas Samsung2020-06-06.csv')\n",
    "dfSa = pd.read_csv('TokPedScrapperOut/KulkasSamsung.csv')"
   ]
  },
  {
   "cell_type": "code",
   "execution_count": 28,
   "metadata": {},
   "outputs": [],
   "source": [
    "saName = dfSa['tipeKulkas']\n",
    "dfSa.tipeKulkas = dfSa.tipeKulkas.apply(lambda x: x.replace('/SE',''))\n",
    "saName = saName.array"
   ]
  },
  {
   "cell_type": "code",
   "execution_count": 29,
   "metadata": {},
   "outputs": [],
   "source": [
    "pattern = '|'.join(saName)"
   ]
  },
  {
   "cell_type": "code",
   "execution_count": 30,
   "metadata": {},
   "outputs": [
    {
     "data": {
      "text/plain": [
       "'RT35K5030B1|RT38K503JS8|RT38K5030B1|RR18R1000SA|RS64R5141SL|RS62R5001SL|RS62R5041B4|RS63R5561B4|RS61R5001M9|RT25FARBDSA|RT29K5032DX|RT35K5032DX|RT38K5032DX|RT22FARBDSA|RT19M300BGS|RT29K5032S8|RT62K7011BS|RT32K5032S8|RT43K6231S8|RT46K6231BS|RT46K6231S8|RT50K6241S8|RT38K5032S8|RT53K6231BS|RT20FARWDSA'"
      ]
     },
     "execution_count": 30,
     "metadata": {},
     "output_type": "execute_result"
    }
   ],
   "source": [
    "pattern"
   ]
  },
  {
   "cell_type": "code",
   "execution_count": 16,
   "metadata": {
    "collapsed": true
   },
   "outputs": [
    {
     "data": {
      "text/plain": [
       "0       False\n",
       "1       False\n",
       "2        True\n",
       "3        True\n",
       "4        True\n",
       "        ...  \n",
       "5116    False\n",
       "5117     True\n",
       "5118    False\n",
       "5119    False\n",
       "5120    False\n",
       "Name: name, Length: 5121, dtype: bool"
      ]
     },
     "execution_count": 16,
     "metadata": {},
     "output_type": "execute_result"
    }
   ],
   "source": [
    "dfTp.name.str.contains(pattern)"
   ]
  },
  {
   "cell_type": "code",
   "execution_count": null,
   "metadata": {},
   "outputs": [],
   "source": [
    "import re\n",
    "def pattern_searcher(search_str:str, search_list:str):\n",
    "    search_obj = re.search(search_list, search_str)\n",
    "    if search_obj :\n",
    "        return_str = search_str[search_obj.start(): search_obj.end()]\n",
    "    else:\n",
    "        return_str = 'NA'\n",
    "    return return_str"
   ]
  },
  {
   "cell_type": "code",
   "execution_count": 31,
   "metadata": {},
   "outputs": [],
   "source": [
    "dfTp['matched_str'] = dfTp['name'].apply(lambda x: pattern_searcher(search_str=x, search_list=pattern))"
   ]
  },
  {
   "cell_type": "code",
   "execution_count": 34,
   "metadata": {},
   "outputs": [
    {
     "data": {
      "text/html": [
       "<div>\n",
       "<style scoped>\n",
       "    .dataframe tbody tr th:only-of-type {\n",
       "        vertical-align: middle;\n",
       "    }\n",
       "\n",
       "    .dataframe tbody tr th {\n",
       "        vertical-align: top;\n",
       "    }\n",
       "\n",
       "    .dataframe thead th {\n",
       "        text-align: right;\n",
       "    }\n",
       "</style>\n",
       "<table border=\"1\" class=\"dataframe\">\n",
       "  <thead>\n",
       "    <tr style=\"text-align: right;\">\n",
       "      <th></th>\n",
       "      <th>name</th>\n",
       "      <th>matched_str</th>\n",
       "    </tr>\n",
       "  </thead>\n",
       "  <tbody>\n",
       "    <tr>\n",
       "      <th>0</th>\n",
       "      <td>DEFROST-BIMETAL KULKAS 3 KABEL ST-3 + FUSE DAL...</td>\n",
       "      <td>NA</td>\n",
       "    </tr>\n",
       "    <tr>\n",
       "      <th>1</th>\n",
       "      <td>Thermistor kulkas samsung original</td>\n",
       "      <td>NA</td>\n",
       "    </tr>\n",
       "    <tr>\n",
       "      <th>2</th>\n",
       "      <td>SAMSUNG RT29K5032S8 Kulkas 2 Pintu Twin Coolin...</td>\n",
       "      <td>RT29K5032S8</td>\n",
       "    </tr>\n",
       "    <tr>\n",
       "      <th>3</th>\n",
       "      <td>Samsung RT25FARBDSA Kulkas Lemasi ES 2 Pintu R...</td>\n",
       "      <td>RT25FARBDSA</td>\n",
       "    </tr>\n",
       "    <tr>\n",
       "      <th>4</th>\n",
       "      <td>SAMSUNG - BIG 2 DOOR REFRIGERATOR RT46K6231BS</td>\n",
       "      <td>RT46K6231BS</td>\n",
       "    </tr>\n",
       "    <tr>\n",
       "      <th>...</th>\n",
       "      <td>...</td>\n",
       "      <td>...</td>\n",
       "    </tr>\n",
       "    <tr>\n",
       "      <th>5116</th>\n",
       "      <td>Inverter Kulkas Samsung RT41TSGL</td>\n",
       "      <td>NA</td>\n",
       "    </tr>\n",
       "    <tr>\n",
       "      <th>5117</th>\n",
       "      <td>PCB modul inverter kulkas samsung RT25FARBDSA ...</td>\n",
       "      <td>RT25FARBDSA</td>\n",
       "    </tr>\n",
       "    <tr>\n",
       "      <th>5118</th>\n",
       "      <td>Samsung Kulkas RT 20FAR WDWW - PUTIH -Inverter...</td>\n",
       "      <td>NA</td>\n",
       "    </tr>\n",
       "    <tr>\n",
       "      <th>5119</th>\n",
       "      <td>KULKAS SAMSUNG 22 FAR</td>\n",
       "      <td>NA</td>\n",
       "    </tr>\n",
       "    <tr>\n",
       "      <th>5120</th>\n",
       "      <td>TERMIS kulkas 2 PINTU SAMSUNG oryginal</td>\n",
       "      <td>NA</td>\n",
       "    </tr>\n",
       "  </tbody>\n",
       "</table>\n",
       "<p>5121 rows × 2 columns</p>\n",
       "</div>"
      ],
      "text/plain": [
       "                                                   name  matched_str\n",
       "0     DEFROST-BIMETAL KULKAS 3 KABEL ST-3 + FUSE DAL...           NA\n",
       "1                    Thermistor kulkas samsung original           NA\n",
       "2     SAMSUNG RT29K5032S8 Kulkas 2 Pintu Twin Coolin...  RT29K5032S8\n",
       "3     Samsung RT25FARBDSA Kulkas Lemasi ES 2 Pintu R...  RT25FARBDSA\n",
       "4         SAMSUNG - BIG 2 DOOR REFRIGERATOR RT46K6231BS  RT46K6231BS\n",
       "...                                                 ...          ...\n",
       "5116                   Inverter Kulkas Samsung RT41TSGL           NA\n",
       "5117  PCB modul inverter kulkas samsung RT25FARBDSA ...  RT25FARBDSA\n",
       "5118  Samsung Kulkas RT 20FAR WDWW - PUTIH -Inverter...           NA\n",
       "5119                              KULKAS SAMSUNG 22 FAR           NA\n",
       "5120             TERMIS kulkas 2 PINTU SAMSUNG oryginal           NA\n",
       "\n",
       "[5121 rows x 2 columns]"
      ]
     },
     "execution_count": 34,
     "metadata": {},
     "output_type": "execute_result"
    }
   ],
   "source": [
    "dfTp[['name', 'matched_str']] "
   ]
  },
  {
   "cell_type": "code",
   "execution_count": 20,
   "metadata": {},
   "outputs": [],
   "source": [
    "mylist = ['dog', 'cat', 'fish']\n",
    "pattern = '|'.join(mylist)"
   ]
  },
  {
   "cell_type": "code",
   "execution_count": 21,
   "metadata": {},
   "outputs": [],
   "source": [
    "import re\n",
    "def pattern_searcher(search_str:str, search_list:str):\n",
    "\n",
    "    search_obj = re.search(search_list, search_str)\n",
    "    if search_obj :\n",
    "        return_str = search_str[search_obj.start(): search_obj.end()]\n",
    "    else:\n",
    "        return_str = 'NA'\n",
    "    return return_str"
   ]
  },
  {
   "cell_type": "code",
   "execution_count": 22,
   "metadata": {},
   "outputs": [],
   "source": [
    "frame['matched_str'] = frame['a'].apply(lambda x: pattern_searcher(search_str=x, search_list=pattern))"
   ]
  },
  {
   "cell_type": "markdown",
   "metadata": {},
   "source": [
    "https://stackoverflow.com/questions/17972938/check-if-string-in-pandas-dataframe-column-is-in-list"
   ]
  },
  {
   "cell_type": "code",
   "execution_count": null,
   "metadata": {},
   "outputs": [],
   "source": []
  }
 ],
 "metadata": {
  "kernelspec": {
   "display_name": "Python 3.7.1 64-bit ('LocEnv': conda)",
   "language": "python",
   "name": "python37164bitlocenvconda2ab0ee2a3ad84993b386a03cb56d4356"
  },
  "language_info": {
   "codemirror_mode": {
    "name": "ipython",
    "version": 3
   },
   "file_extension": ".py",
   "mimetype": "text/x-python",
   "name": "python",
   "nbconvert_exporter": "python",
   "pygments_lexer": "ipython3",
   "version": "3.7.1"
  }
 },
 "nbformat": 4,
 "nbformat_minor": 4
}
