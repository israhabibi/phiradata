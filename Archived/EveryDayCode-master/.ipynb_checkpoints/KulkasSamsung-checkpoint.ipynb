{
 "cells": [
  {
   "cell_type": "code",
   "execution_count": 4,
   "metadata": {},
   "outputs": [],
   "source": [
    "from bs4 import BeautifulSoup\n",
    "import pandas as pd\n",
    "import glob\n",
    "import requests\n",
    "from selenium import webdriver"
   ]
  },
  {
   "cell_type": "code",
   "execution_count": 6,
   "metadata": {},
   "outputs": [],
   "source": [
    "url = 'https://www.samsung.com/id/refrigerators/all-refrigerators/'\n",
    "# r = requests.get(url)\n",
    "# soup = BeautifulSoup(r.content, 'html.parser')\n",
    "driver = webdriver.Chrome(executable_path='chromedriver')\n",
    "driver.get(url)\n"
   ]
  },
  {
   "cell_type": "code",
   "execution_count": 7,
   "metadata": {},
   "outputs": [],
   "source": [
    "html_source = driver.page_source\n",
    "soup = BeautifulSoup(html_source, 'html.parser')"
   ]
  },
  {
   "cell_type": "code",
   "execution_count": 19,
   "metadata": {},
   "outputs": [],
   "source": [
    "dataSamsung = []\n",
    "shopGridd = soup.find('div', class_ = 'shop-grid')\n",
    "listKulkases = shopGridd.find_all('div', class_ = 'shop-grid-col shop-col3')\n",
    "for listKulkas in listKulkases:\n",
    "    tipeKulkas = listKulkas.find('span', class_ = 'cm-shop-card__serial').get_text()\n",
    "    namaKulkas = listKulkas.find('strong', class_ = 's-txt-title').get_text()\n",
    "    try :\n",
    "        hargaKulkas = listKulkas.find('span', class_ = 'cm-shop-card__price-num').get_text()\n",
    "    except :\n",
    "        hargaKulkas = 0\n",
    "    dataSamsung.append((tipeKulkas,namaKulkas,hargaKulkas))"
   ]
  },
  {
   "cell_type": "code",
   "execution_count": 22,
   "metadata": {},
   "outputs": [],
   "source": [
    "df = pd.DataFrame(dataSamsung,columns=['tipeKulkas','namaKulkas','hargaKulkas'])"
   ]
  },
  {
   "cell_type": "code",
   "execution_count": 23,
   "metadata": {},
   "outputs": [],
   "source": [
    "df.to_csv('D:\\\\Project\\\\EveryDayCode\\\\TokPedScrapperOut\\\\'+'KulkasSamsung.csv')"
   ]
  }
 ],
 "metadata": {
  "kernelspec": {
   "display_name": "Python 3",
   "language": "python",
   "name": "python3"
  },
  "language_info": {
   "codemirror_mode": {
    "name": "ipython",
    "version": 3
   },
   "file_extension": ".py",
   "mimetype": "text/x-python",
   "name": "python",
   "nbconvert_exporter": "python",
   "pygments_lexer": "ipython3",
   "version": "3.7.1"
  }
 },
 "nbformat": 4,
 "nbformat_minor": 2
}
