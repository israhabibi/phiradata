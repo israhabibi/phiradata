{
 "cells": [
  {
   "cell_type": "code",
   "execution_count": 2,
   "metadata": {},
   "outputs": [],
   "source": [
    "import pandas as pd"
   ]
  },
  {
   "cell_type": "code",
   "execution_count": 3,
   "metadata": {},
   "outputs": [],
   "source": [
    "frame = pd.DataFrame({'a' : ['the cat is blue', 'the sky is green', 'the dog is black']})"
   ]
  },
  {
   "cell_type": "code",
   "execution_count": 4,
   "metadata": {},
   "outputs": [],
   "source": [
    "mylist = ['dog', 'cat', 'fish']\n",
    "pattern = '|'.join(mylist)"
   ]
  },
  {
   "cell_type": "code",
   "execution_count": 6,
   "metadata": {},
   "outputs": [
    {
     "data": {
      "text/plain": [
       "'dog|cat|fish'"
      ]
     },
     "execution_count": 6,
     "metadata": {},
     "output_type": "execute_result"
    }
   ],
   "source": [
    "pattern"
   ]
  },
  {
   "cell_type": "code",
   "execution_count": 5,
   "metadata": {},
   "outputs": [
    {
     "data": {
      "text/plain": [
       "0     True\n",
       "1    False\n",
       "2     True\n",
       "Name: a, dtype: bool"
      ]
     },
     "execution_count": 5,
     "metadata": {},
     "output_type": "execute_result"
    }
   ],
   "source": [
    "frame.a.str.contains(pattern)"
   ]
  },
  {
   "cell_type": "code",
   "execution_count": 7,
   "metadata": {},
   "outputs": [],
   "source": [
    "dfTp = pd.read_csv('TokPedScrapperOut/Kulkas Samsung2020-06-06.csv')\n",
    "dfSa = pd.read_csv('TokPedScrapperOut/KulkasSamsung.csv')"
   ]
  },
  {
   "cell_type": "code",
   "execution_count": 8,
   "metadata": {},
   "outputs": [],
   "source": [
    "saName = dfSa['tipeKulkas']\n",
    "dfSa.tipeKulkas = dfSa.tipeKulkas.apply(lambda x: x.replace('/SE',''))"
   ]
  }
 ],
 "metadata": {
  "kernelspec": {
   "display_name": "Python 3.7.1 64-bit ('LocEnv': conda)",
   "language": "python",
   "name": "python37164bitlocenvconda2ab0ee2a3ad84993b386a03cb56d4356"
  }
 },
 "nbformat": 4,
 "nbformat_minor": 4
}
