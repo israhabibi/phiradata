{
 "cells": [
  {
   "cell_type": "code",
   "execution_count": 25,
   "metadata": {},
   "outputs": [],
   "source": [
    "from bs4 import BeautifulSoup\n",
    "import pandas as pd\n",
    "import glob\n",
    "import requests\n",
    "from selenium import webdriver\n",
    "import pymongo\n",
    "import json\n",
    "from datetime import datetime \n",
    "myclient = pymongo.MongoClient(\"mongodb://localhost:27017/\")\n",
    "mydb = myclient[\"mydatabase\"]\n",
    "mycol = mydb[\"kulkasSamsung\"]"
   ]
  },
  {
   "cell_type": "code",
   "execution_count": 26,
   "metadata": {},
   "outputs": [],
   "source": [
    "url = 'https://www.samsung.com/id/refrigerators/all-refrigerators/'\n",
    "# r = requests.get(url)\n",
    "# soup = BeautifulSoup(r.content, 'html.parser')\n",
    "driver = webdriver.Chrome(executable_path='chromedriver')\n",
    "driver.get(url)\n"
   ]
  },
  {
   "cell_type": "code",
   "execution_count": 27,
   "metadata": {},
   "outputs": [],
   "source": [
    "html_source = driver.page_source\n",
    "soup = BeautifulSoup(html_source, 'html.parser')"
   ]
  },
  {
   "cell_type": "code",
   "execution_count": 28,
   "metadata": {},
   "outputs": [],
   "source": [
    "dataSamsung = []\n",
    "shopGridd = soup.find('div', class_ = 'shop-grid')\n",
    "listKulkases = shopGridd.find_all('div', class_ = 'shop-grid-col shop-col3')\n",
    "for listKulkas in listKulkases:\n",
    "    tipeKulkas = listKulkas.find('span', class_ = 'cm-shop-card__serial').get_text()\n",
    "    namaKulkas = listKulkas.find('strong', class_ = 's-txt-title').get_text()\n",
    "    try :\n",
    "        hargaKulkas = listKulkas.find('span', class_ = 'cm-shop-card__price-num').get_text()\n",
    "    except :\n",
    "        hargaKulkas = 0\n",
    "    recTimestamp = datetime.now()\n",
    "    dataSamsung.append((tipeKulkas,namaKulkas,hargaKulkas, recTimestamp))"
   ]
  },
  {
   "cell_type": "code",
   "execution_count": 29,
   "metadata": {},
   "outputs": [],
   "source": [
    "df = pd.DataFrame(dataSamsung,columns=['tipeKulkas','namaKulkas','hargaKulkas','recTimestamp'])"
   ]
  },
  {
   "cell_type": "code",
   "execution_count": 30,
   "metadata": {},
   "outputs": [],
   "source": [
    "records = json.loads(df.T.to_json()).values()"
   ]
  },
  {
   "cell_type": "code",
   "execution_count": 31,
   "metadata": {},
   "outputs": [
    {
     "data": {
      "text/plain": [
       "<pymongo.results.InsertManyResult at 0x27ced160d88>"
      ]
     },
     "execution_count": 31,
     "metadata": {},
     "output_type": "execute_result"
    }
   ],
   "source": [
    "mycol.insert_many(records)"
   ]
  },
  {
   "cell_type": "code",
   "execution_count": 23,
   "metadata": {},
   "outputs": [],
   "source": [
    "df.to_csv('D:\\\\Project\\\\EveryDayCode\\\\TokPedScrapperOut\\\\'+'KulkasSamsung.csv')"
   ]
  }
 ],
 "metadata": {
  "kernelspec": {
   "display_name": "Python 3",
   "language": "python",
   "name": "python3"
  },
  "language_info": {
   "codemirror_mode": {
    "name": "ipython",
    "version": 3
   },
   "file_extension": ".py",
   "mimetype": "text/x-python",
   "name": "python",
   "nbconvert_exporter": "python",
   "pygments_lexer": "ipython3",
   "version": "3.7.1"
  }
 },
 "nbformat": 4,
 "nbformat_minor": 2
}
