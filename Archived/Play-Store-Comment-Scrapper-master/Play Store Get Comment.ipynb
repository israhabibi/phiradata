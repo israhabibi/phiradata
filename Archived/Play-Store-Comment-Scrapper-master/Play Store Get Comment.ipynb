{
 "cells": [
  {
   "cell_type": "code",
   "execution_count": 2,
   "metadata": {},
   "outputs": [],
   "source": [
    "from selenium import webdriver\n",
    "from time import sleep\n",
    "from bs4 import BeautifulSoup, Comment\n",
    "import pandas as pd\n",
    "import time"
   ]
  },
  {
   "cell_type": "markdown",
   "metadata": {},
   "source": [
    "Masukkan link aplikasi di playstore, setelah dipilih all review"
   ]
  },
  {
   "cell_type": "code",
   "execution_count": 3,
   "metadata": {},
   "outputs": [],
   "source": [
    "driver = webdriver.Chrome()\n",
    "\n",
    "link = 'https://play.google.com/store/apps/details?id=com.bukalapak.android&showAllReviews=true'\n",
    "driver.get(link)"
   ]
  },
  {
   "cell_type": "markdown",
   "metadata": {},
   "source": [
    "nama aplikasinya"
   ]
  },
  {
   "cell_type": "code",
   "execution_count": null,
   "metadata": {},
   "outputs": [],
   "source": [
    "Ptitle = driver.find_element_by_class_name('AHFaub').text.replace(' ','')\n",
    "print(Ptitle)"
   ]
  },
  {
   "attachments": {
    "gambar.png": {
     "image/png": "[encoded data removed]"
    }
   },
   "cell_type": "markdown",
   "metadata": {},
   "source": [
    "proses manual, ![gambar.png](attachment:gambar.png) klik order by date sebelum lanjut ke tahap selanjutnya"
   ]
  },
  {
   "cell_type": "code",
   "execution_count": null,
   "metadata": {
    "scrolled": true
   },
   "outputs": [],
   "source": [
    "SCROLL_PAUSE_TIME = 2\n",
    "# Get scroll height\n",
    "last_height = driver.execute_script(\"return document.body.scrollHeight\")\n",
    "\n",
    "while True:\n",
    "    # Scroll down to bottom\n",
    "    driver.execute_script(\"window.scrollTo(0, document.body.scrollHeight);\")\n",
    "\n",
    "    # Wait to load page\n",
    "    time.sleep(SCROLL_PAUSE_TIME)\n",
    "\n",
    "    # Calculate new scroll height and compare with last scroll height\n",
    "    new_height = driver.execute_script(\"return document.body.scrollHeight\")\n",
    "    if new_height == last_height:\n",
    "        time.sleep(SCROLL_PAUSE_TIME)\n",
    "        try:\n",
    "            show_more_button = driver.find_elements_by_class_name('PFAhAf')[0]\n",
    "            show_more_button.click()\n",
    "        except:\n",
    "            time.sleep(SCROLL_PAUSE_TIME)\n",
    "            show_more_button = driver.find_elements_by_class_name('CwaK9')[0]\n",
    "            show_more_button.click()\n",
    "        except:\n",
    "            time.sleep(SCROLL_PAUSE_TIME)\n",
    "            show_more_button = driver.find_elements_by_xpath('//*[@id=\"fcxH9b\"]/div[4]/c-wiz/div/div[2]/div/div[1]/div/div/div[1]/div[2]/div[2]/div')[0]\n",
    "            show_more_button.click()          \n",
    "    last_height = new_height"
   ]
  },
  {
   "cell_type": "markdown",
   "metadata": {},
   "source": [
    "Jika error, jalankan salah satu dari script di bawah, setelah itu ulang lagi script di atas"
   ]
  },
  {
   "cell_type": "code",
   "execution_count": null,
   "metadata": {},
   "outputs": [],
   "source": [
    "show_more_button = driver.find_elements_by_xpath('//*[@id=\"fcxH9b\"]/div[4]/c-wiz/div/div[2]/div/div[1]/div/div/div[1]/div[2]/div[2]/div')[0]\n",
    "show_more_button.click()"
   ]
  },
  {
   "cell_type": "code",
   "execution_count": null,
   "metadata": {},
   "outputs": [],
   "source": [
    "show_more_button = driver.find_elements_by_class_name('CwaK9')[0]\n",
    "show_more_button.click()"
   ]
  },
  {
   "cell_type": "code",
   "execution_count": null,
   "metadata": {},
   "outputs": [],
   "source": [
    "show_more_button = driver.find_elements_by_xpath('//*[@id=\"fcxH9b\"]/div[4]/c-wiz/div/div[2]/div/div[1]/div/div/div[1]/div[2]/div/div[1]/div/div[2]/div[2]/span[1]/div/button')[0]\n",
    "show_more_button.click()"
   ]
  },
  {
   "cell_type": "markdown",
   "metadata": {},
   "source": [
    "Setelah semua halaman ter scroll, program untuk ambil data komentar dan rating "
   ]
  },
  {
   "cell_type": "code",
   "execution_count": null,
   "metadata": {},
   "outputs": [],
   "source": [
    "html_source = driver.page_source\n",
    "soup = BeautifulSoup(html_source, 'html.parser')\n",
    "reviews = soup.find_all('div', jscontroller = 'H6eOGe')\n",
    "\n",
    "i = 0\n",
    "data = []\n",
    "for review in reviews :\n",
    "    user_name = review.find('span', class_ = 'X43Kjb').get_text()\n",
    "    ratingx = review.find('div', class_ = 'pf5lIe')\n",
    "    rating = ratingx.find('div').attrs['aria-label']\n",
    "    review_date = review.find('span', class_ = 'p2TkOb').get_text()\n",
    "    review_text = review.find('span', jsname = 'fbQN7e').get_text()\n",
    "    if review_text == '' :\n",
    "        review_text = review.find('span', jsname = 'bN97Pc').get_text()\n",
    "    else :\n",
    "        review_text = review.find('span', jsname = 'fbQN7e').get_text()\n",
    "    try :\n",
    "        reply = review.find('div', class_ = 'LVQB0b')\n",
    "        reply.find('span', class_ = 'X43Kjb').get_text()\n",
    "        reply.find('span', class_ = 'p2TkOb').get_text()\n",
    "        reply_text = reply.get_text()\n",
    "    except:\n",
    "        reply_text = ''\n",
    "        pass\n",
    "    i=i+1\n",
    "#     print(str(i)+' '+user_name+'-'+rating+'-'+review_date+'-'+review_text+' - '+reply_text)\n",
    "    data.append((Ptitle, user_name,rating,review_date,review_text,reply_text))\n",
    "\n",
    "df = pd.DataFrame(data, columns = ['title','user_name','rating','review_date','review_text','reply_text'])\n",
    "\n",
    "df.to_csv( \"Data Bukalapak.csv\", index=False, quoting=0 )"
   ]
  },
  {
   "cell_type": "markdown",
   "metadata": {},
   "source": [
    "data disimpan dalam pandas dataframe dan csv"
   ]
  },
  {
   "cell_type": "code",
   "execution_count": null,
   "metadata": {},
   "outputs": [],
   "source": [
    "df.head()"
   ]
  }
 ],
 "metadata": {
  "kernelspec": {
   "display_name": "Python 3",
   "language": "python",
   "name": "python3"
  },
  "language_info": {
   "codemirror_mode": {
    "name": "ipython",
    "version": 3
   },
   "file_extension": ".py",
   "mimetype": "text/x-python",
   "name": "python",
   "nbconvert_exporter": "python",
   "pygments_lexer": "ipython3",
   "version": "3.6.8"
  }
 },
 "nbformat": 4,
 "nbformat_minor": 2
}
